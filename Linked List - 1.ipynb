{
 "cells": [
  {
   "cell_type": "markdown",
   "id": "c8d9430f",
   "metadata": {},
   "source": [
    "# Linked List Node"
   ]
  },
  {
   "cell_type": "code",
   "execution_count": 2,
   "id": "05b523c6",
   "metadata": {},
   "outputs": [
    {
     "name": "stdout",
     "output_type": "stream",
     "text": [
      "1\n",
      "2\n",
      "2\n"
     ]
    }
   ],
   "source": [
    "class node :\n",
    "    def __init__(self,data):\n",
    "        self.data=data\n",
    "        self.next=None\n",
    "        \n",
    "a=node(1)\n",
    "b=node(2)\n",
    "a.next=b\n",
    "\n",
    "print(a.data)\n",
    "print(b.data)\n",
    "print(a.next.data)"
   ]
  },
  {
   "cell_type": "markdown",
   "id": "1bfe2642",
   "metadata": {},
   "source": [
    "# Linked Link Input "
   ]
  },
  {
   "cell_type": "code",
   "execution_count": 4,
   "id": "bc5c1d18",
   "metadata": {},
   "outputs": [
    {
     "name": "stdout",
     "output_type": "stream",
     "text": [
      "1 2 3 4 5 -1\n"
     ]
    }
   ],
   "source": [
    "class node :\n",
    "    def __init__(self,data) :\n",
    "        self.data = data\n",
    "        self.next = None\n",
    "\n",
    "def takeinput() :\n",
    "    inputlist = [int(ele) for ele in input().split()]\n",
    "    head = None \n",
    "    \n",
    "    for currdata in inputlist :\n",
    "        if currdata == -1 :\n",
    "            break\n",
    "        newNode =  node(currdata)\n",
    "        if head ==None :\n",
    "            head = newNode\n",
    "        else :\n",
    "            curr = head\n",
    "            while curr.next is not None :\n",
    "                curr = curr.next\n",
    "            curr.next = newNode\n",
    "            \n",
    "head = takeinput()"
   ]
  },
  {
   "cell_type": "markdown",
   "id": "d1fcd230",
   "metadata": {},
   "source": [
    "#  Print Linked List"
   ]
  },
  {
   "cell_type": "code",
   "execution_count": 7,
   "id": "813e795c",
   "metadata": {},
   "outputs": [
    {
     "name": "stdout",
     "output_type": "stream",
     "text": [
      "1 2 3 4 5 6 7 8 -1\n",
      "1->2->3->4->5->6->7->8->None\n"
     ]
    }
   ],
   "source": [
    "class node() :\n",
    "    def __init__(self,data) :\n",
    "        self.data = data\n",
    "        self.next = None\n",
    "    \n",
    "    \n",
    "def printll(head) :\n",
    "    while head is not None :\n",
    "        print(str(head.data) + '->',end='')\n",
    "        head = head.next\n",
    "    print('None')\n",
    "    \n",
    "def takeinput():\n",
    "    inputlist = [int(ele) for ele in input().split()]\n",
    "    head = None \n",
    "    \n",
    "    for currdata in inputlist :\n",
    "        if currdata == -1 :\n",
    "            break\n",
    "            \n",
    "        newNode = node(currdata)\n",
    "        \n",
    "        if head == None :\n",
    "            head =newNode\n",
    "        \n",
    "        else :\n",
    "            curr= head\n",
    "            while curr.next is not None :\n",
    "                curr = curr.next\n",
    "            curr.next = newNode\n",
    "    return head\n",
    "    \n",
    "head = takeinput()\n",
    "printll(head) "
   ]
  },
  {
   "cell_type": "markdown",
   "id": "b7b81bad",
   "metadata": {},
   "source": [
    "#  Linked List Input-2"
   ]
  },
  {
   "cell_type": "code",
   "execution_count": 1,
   "id": "6123b18b",
   "metadata": {},
   "outputs": [
    {
     "name": "stdout",
     "output_type": "stream",
     "text": [
      "1 2 3 4 5 6 7 8 -1\n",
      "1 ->2 ->3 ->4 ->5 ->6 ->7 ->8 ->None\n"
     ]
    }
   ],
   "source": [
    "class node():\n",
    "    def __init__(self,data) :\n",
    "        self.data = data\n",
    "        self.next = None\n",
    "    \n",
    "def printll(head) :\n",
    "    while head is not None :\n",
    "        print(head.data,'->',end='')\n",
    "        head=head.next\n",
    "    print('None')\n",
    "    \n",
    "def takeinput() :\n",
    "    inputlist = [int(ele) for ele in input().split()]\n",
    "    head = None \n",
    "    tail = None\n",
    "    for currdata in inputlist :\n",
    "        if currdata == -1 :\n",
    "            break\n",
    "            \n",
    "        newNode= node(currdata)\n",
    "        \n",
    "        if head == None :\n",
    "            head = newNode\n",
    "            tail = newNode\n",
    "        else :\n",
    "            tail.next=newNode\n",
    "            tail=newNode\n",
    "             \n",
    "    return head\n",
    "\n",
    "head = takeinput()\n",
    "printll(head)"
   ]
  },
  {
   "cell_type": "markdown",
   "id": "a2adeec9",
   "metadata": {},
   "source": [
    "# print leaght and print I(nt) node "
   ]
  },
  {
   "cell_type": "code",
   "execution_count": 5,
   "id": "3c9dcf79",
   "metadata": {},
   "outputs": [
    {
     "name": "stdout",
     "output_type": "stream",
     "text": [
      "1 2 3 4 5 6 7 8 -1\n",
      "1 ->2 ->3 ->4 ->5 ->6 ->7 ->8 ->None\n",
      "8\n",
      "4\n"
     ]
    }
   ],
   "source": [
    "class node():\n",
    "    def __init__(self,data) :\n",
    "        self.data = data\n",
    "        self.next = None\n",
    "    \n",
    "def printll(head) :\n",
    "    while head is not None :\n",
    "        print(head.data,'->',end='')\n",
    "        head=head.next\n",
    "    print('None')\n",
    "\n",
    "\n",
    "def printIthNode(head, i): \n",
    "    a=0\n",
    "    while head is not None :\n",
    "        if a==i :\n",
    "            print(head.data)\n",
    "        a=a+1\n",
    "        head=head.next \n",
    "    \n",
    "def takeinput() :\n",
    "    inputlist = [int(ele) for ele in input().split()]\n",
    "    head = None \n",
    "    tail = None\n",
    "    for currdata in inputlist :\n",
    "        if currdata == -1 :\n",
    "            break\n",
    "            \n",
    "        newNode= node(currdata)\n",
    "        \n",
    "        if head == None :\n",
    "            head = newNode\n",
    "            tail = newNode\n",
    "        else :\n",
    "            tail.next=newNode\n",
    "            tail=newNode\n",
    "             \n",
    "    return head\n",
    "\n",
    "head = takeinput()\n",
    "printll(head)\n",
    "length(head)\n",
    "printIthNode(head, 3)"
   ]
  },
  {
   "cell_type": "markdown",
   "id": "d585b019",
   "metadata": {},
   "source": [
    "#  Insert At Ith Position "
   ]
  },
  {
   "cell_type": "code",
   "execution_count": 4,
   "id": "9c3dae50",
   "metadata": {},
   "outputs": [
    {
     "name": "stdout",
     "output_type": "stream",
     "text": [
      "1 2 3 4 5 -1\n",
      "1->2->3->4->5->None\n",
      "1->2->6->3->4->5->None\n",
      "9->1->2->6->3->4->5->None\n",
      "9->1->2->6->3->4->5->10->None\n"
     ]
    }
   ],
   "source": [
    "\n",
    "class node :\n",
    "    def __init__(self,data):\n",
    "        self.data = data\n",
    "        self.next = None\n",
    "\n",
    "def printll(head) :\n",
    "    while head is not None :\n",
    "        print(str(head.data)+ \"->\", end='')\n",
    "        head=head.next\n",
    "    print(\"None\")\n",
    "    return \n",
    "\n",
    "def length(head) :\n",
    "    count = 0\n",
    "    while head is not None :\n",
    "        count = count + 1\n",
    "        head=head.next\n",
    "    return count\n",
    "\n",
    "def insert_at_i(head,i,data) :\n",
    "    if i<0 or i>length(head) :\n",
    "        return head\n",
    "    count =0\n",
    "    prev = None\n",
    "    curr =head\n",
    "    \n",
    "    while count<i :\n",
    "        prev = curr\n",
    "        curr = curr.next\n",
    "        count = count + 1\n",
    "        \n",
    "    newnode = node(data)\n",
    "    \n",
    "    if prev is not None :\n",
    "        prev.next = newnode\n",
    "    else :\n",
    "        head=newnode\n",
    "    \n",
    "    newnode.next = curr\n",
    "    return head\n",
    "        \n",
    "def takeinput() : \n",
    "    inputlist = [ int(ele) for ele in input().split() ]\n",
    "    head = None\n",
    "    tail = None \n",
    "    \n",
    "    for currdata in inputlist :\n",
    "        if currdata == -1 :\n",
    "            break \n",
    "        \n",
    "        newnode= node(currdata)\n",
    "        if head == None :\n",
    "            head = newnode \n",
    "            tail = newnode\n",
    "        else :\n",
    "            tail.next = newnode\n",
    "            tail = newnode \n",
    "    return head\n",
    "\n",
    "head=takeinput()\n",
    "printll(head)\n",
    "head=insert_at_i(head,2,6)\n",
    "printll(head)\n",
    "head=insert_at_i(head,0,9)\n",
    "printll(head)\n",
    "head=insert_at_i(head,7,10)\n",
    "printll(head)"
   ]
  },
  {
   "cell_type": "markdown",
   "id": "bd4d042f",
   "metadata": {},
   "source": [
    "#  deleting Link List element "
   ]
  },
  {
   "cell_type": "code",
   "execution_count": 6,
   "id": "0c08d5ff",
   "metadata": {},
   "outputs": [
    {
     "name": "stdout",
     "output_type": "stream",
     "text": [
      "1 2 3 4 5 -1\n",
      "1->2->3->4->5->None\n",
      "1->2->3->4->5->None\n"
     ]
    }
   ],
   "source": [
    "\n",
    "class node :\n",
    "    def __init__(self,data):\n",
    "        self.data = data\n",
    "        self.next = None\n",
    "\n",
    "def printll(head) :\n",
    "    while head is not None :\n",
    "        print(str(head.data)+ \"->\", end='')\n",
    "        head=head.next\n",
    "    print(\"None\")\n",
    "    return \n",
    "\n",
    "def length(head) :\n",
    "    count = 0\n",
    "    while head is not None :\n",
    "        count = count + 1\n",
    "        head=head.next\n",
    "    return count\n",
    "\n",
    "def deleting_at_i(head,i) :\n",
    "    if i<0 or i+1>length(head) :\n",
    "        return head\n",
    "    count =0\n",
    "    prev = None\n",
    "    curr =head\n",
    "    \n",
    "    while count<i :\n",
    "        prev = curr\n",
    "        curr = curr.next\n",
    "        count = count + 1\n",
    "        \n",
    "    \n",
    "    if prev is not None :\n",
    "        prev.next = curr.next\n",
    "    \n",
    "    else :\n",
    "        head=curr.next\n",
    "    \n",
    "#     newnode.next = curr\n",
    "    return head\n",
    "        \n",
    "def takeinput() : \n",
    "    inputlist = [ int(ele) for ele in input().split() ]\n",
    "    head = None\n",
    "    tail = None \n",
    "    \n",
    "    for currdata in inputlist :\n",
    "        if currdata == -1 :\n",
    "            break \n",
    "        \n",
    "        newnode= node(currdata)\n",
    "        if head == None :\n",
    "            head = newnode \n",
    "            tail = newnode\n",
    "        else :\n",
    "            tail.next = newnode\n",
    "            tail = newnode \n",
    "    return head\n",
    "\n",
    "head=takeinput()\n",
    "printll(head)\n",
    "head=deleting_at_i(head,5)\n",
    "printll(head)\n",
    "# head=insert_at_i(head,0,9)\n",
    "# printll(head)\n",
    "# head=insert_at_i(head,7,10)\n",
    "# printll(head)"
   ]
  },
  {
   "cell_type": "code",
   "execution_count": 2,
   "id": "cec8f97e",
   "metadata": {},
   "outputs": [],
   "source": [
    "class node():\n",
    "    def __init__(self, data) :\n",
    "        self.data = data\n",
    "        self.next = None\n",
    "\n",
    "def takeinput() :\n",
    "    inputlist = [int(ele) for ele in input().split()]\n",
    "    \n",
    "    head = None\n",
    "    tail = None\n",
    "    \n",
    "    for currnod in inputlist :\n",
    "        if currnod == -1 :\n",
    "            break\n",
    "        \n",
    "\n",
    "        \n",
    "        "
   ]
  },
  {
   "cell_type": "code",
   "execution_count": null,
   "id": "37c9b076",
   "metadata": {},
   "outputs": [],
   "source": []
  }
 ],
 "metadata": {
  "kernelspec": {
   "display_name": "Python 3 (ipykernel)",
   "language": "python",
   "name": "python3"
  },
  "language_info": {
   "codemirror_mode": {
    "name": "ipython",
    "version": 3
   },
   "file_extension": ".py",
   "mimetype": "text/x-python",
   "name": "python",
   "nbconvert_exporter": "python",
   "pygments_lexer": "ipython3",
   "version": "3.11.2"
  }
 },
 "nbformat": 4,
 "nbformat_minor": 5
}
