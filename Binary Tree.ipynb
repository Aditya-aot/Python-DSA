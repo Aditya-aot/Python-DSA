{
 "cells": [
  {
   "cell_type": "markdown",
   "id": "d327676c",
   "metadata": {},
   "source": [
    "#  How to create Binary Tree Node"
   ]
  },
  {
   "cell_type": "code",
   "execution_count": 1,
   "id": "25275f59",
   "metadata": {},
   "outputs": [],
   "source": [
    "class BinaryTreeNode :\n",
    "    def __init__(self,data) :\n",
    "        self.data = data\n",
    "        self.left = None\n",
    "        self.right = None\n",
    "\n",
    "btn1 = BinaryTreeNode(1)\n",
    "btn2 = BinaryTreeNode(2)\n",
    "btn3 = BinaryTreeNode(3)\n",
    "\n",
    "btn4 = BinaryTreeNode(4)\n",
    "btn5 = BinaryTreeNode(5)\n",
    "\n",
    "btn1.left = btn2\n",
    "btn1.right = btn3\n",
    "\n",
    "btn2.left = btn4\n",
    "btn2.right = btn5"
   ]
  },
  {
   "cell_type": "markdown",
   "id": "ba4b68a3",
   "metadata": {},
   "source": [
    "#  Print Binary Tree"
   ]
  },
  {
   "cell_type": "code",
   "execution_count": 2,
   "id": "21be13e6",
   "metadata": {},
   "outputs": [
    {
     "name": "stdout",
     "output_type": "stream",
     "text": [
      "1\n",
      "2\n",
      "4\n",
      "5\n",
      "3\n"
     ]
    }
   ],
   "source": [
    "def printtree(root):\n",
    "    if root == None :\n",
    "        return \n",
    "    print(root.data)\n",
    "    printtree(root.left)\n",
    "    printtree(root.right)\n",
    "    \n",
    "printtree(btn1)"
   ]
  },
  {
   "cell_type": "markdown",
   "id": "1b0b1889",
   "metadata": {},
   "source": [
    "# Print Detaied Binary Tree"
   ]
  },
  {
   "cell_type": "code",
   "execution_count": 3,
   "id": "1c79f919",
   "metadata": {},
   "outputs": [
    {
     "name": "stdout",
     "output_type": "stream",
     "text": [
      "1:L 2,R 3\n",
      "2:L 4,R 5\n",
      "4:\n",
      "5:\n",
      "3:\n"
     ]
    }
   ],
   "source": [
    "def printtreedetaied(root) :\n",
    "    if root== None :\n",
    "        return \n",
    "    print(root.data, end=\":\")\n",
    "    if root.left != None :\n",
    "        print(\"L\",root.left.data,end=',')\n",
    "    if root.right != None :\n",
    "        print(\"R\",root.right.data,end='')\n",
    "    print()\n",
    "        \n",
    "    printtreedetaied(root.left)\n",
    "    printtreedetaied(root.right)\n",
    "\n",
    "printtreedetaied(btn1)"
   ]
  },
  {
   "cell_type": "markdown",
   "id": "a87f3720",
   "metadata": {},
   "source": [
    "#  Input of Binary TREE"
   ]
  },
  {
   "cell_type": "code",
   "execution_count": 4,
   "id": "61c9cc4c",
   "metadata": {},
   "outputs": [
    {
     "name": "stdout",
     "output_type": "stream",
     "text": [
      "1\n",
      "2\n",
      "4\n",
      "-1\n",
      "-1\n",
      "5\n",
      "-1\n",
      "-1\n",
      "3\n",
      "6\n",
      "-1\n",
      "-1\n",
      "-1\n",
      "\n",
      "1:L 2,R 3\n",
      "2:L 4,R 5\n",
      "4:\n",
      "5:\n",
      "3:L 6,\n",
      "6:\n"
     ]
    }
   ],
   "source": [
    "def treeinput():\n",
    "    rootdata = int(input()) \n",
    "    if rootdata == -1:\n",
    "        return None \n",
    "    \n",
    "    root = BinaryTreeNode(rootdata) \n",
    "    \n",
    "    lefttree = treeinput()\n",
    "    righttree = treeinput()\n",
    "    \n",
    "    root.left = lefttree\n",
    "    root.right = righttree\n",
    "    \n",
    "    return root\n",
    "\n",
    "root = treeinput()\n",
    "print('')\n",
    "printtreedetaied(root)"
   ]
  },
  {
   "cell_type": "markdown",
   "id": "9ec7e9f6",
   "metadata": {},
   "source": [
    "#  Number of Nodes"
   ]
  },
  {
   "cell_type": "code",
   "execution_count": 11,
   "id": "29779644",
   "metadata": {},
   "outputs": [
    {
     "name": "stdout",
     "output_type": "stream",
     "text": [
      "6\n"
     ]
    }
   ],
   "source": [
    "def numnodes(root) :\n",
    "    if root == None :\n",
    "        return 0 \n",
    "    leftcount = numnodes(root.left)\n",
    "    rightcount = numnodes(root.right)\n",
    "    return 1 + leftcount + rightcount\n",
    "\n",
    "print(numnodes(root))"
   ]
  },
  {
   "cell_type": "markdown",
   "id": "4095f2b4",
   "metadata": {},
   "source": [
    "# Node with Largest Data "
   ]
  },
  {
   "cell_type": "code",
   "execution_count": 12,
   "id": "a7611703",
   "metadata": {},
   "outputs": [
    {
     "name": "stdout",
     "output_type": "stream",
     "text": [
      "6\n"
     ]
    }
   ],
   "source": [
    "def largestdata(root) :\n",
    "    if root == None :\n",
    "        return -1  # ideally return -inf\n",
    "    leftlargest = largestdata(root.left)\n",
    "    rightlargest = largestdata(root.right)\n",
    "    largest = max(leftlargest , rightlargest, root.data)\n",
    "    \n",
    "    return largest\n",
    "\n",
    "print(largestdata(root))"
   ]
  },
  {
   "cell_type": "markdown",
   "id": "919e5d6e",
   "metadata": {},
   "source": [
    "# Number of Leaf Nodes"
   ]
  },
  {
   "cell_type": "code",
   "execution_count": 14,
   "id": "db2b5586",
   "metadata": {},
   "outputs": [
    {
     "name": "stdout",
     "output_type": "stream",
     "text": [
      "3\n"
     ]
    }
   ],
   "source": [
    "def numleafnodes(root) :\n",
    "    if root == None :\n",
    "        return 0 \n",
    "    if root.left == None and root.right == None :\n",
    "        return 1\n",
    "    numleafleft = numleafnodes(root.left)\n",
    "    numleafright = numleafnodes(root.right)\n",
    "    \n",
    "    return numleafleft + numleafright\n",
    "\n",
    "print(numleafnodes(root))"
   ]
  },
  {
   "cell_type": "markdown",
   "id": "94267540",
   "metadata": {},
   "source": [
    "#  Print Nodes AT Depth K"
   ]
  },
  {
   "cell_type": "code",
   "execution_count": 15,
   "id": "6435c59f",
   "metadata": {},
   "outputs": [
    {
     "name": "stdout",
     "output_type": "stream",
     "text": [
      "4\n",
      "5\n",
      "6\n",
      "None\n"
     ]
    }
   ],
   "source": [
    "# PART 1\n",
    "def printDepthK(root,k):\n",
    "    if root==None:\n",
    "        return\n",
    "    if k==0:\n",
    "        print(root.data)\n",
    "        return\n",
    "    printDepthK(root.left,k-1)\n",
    "    printDepthK(root.right,k-1)\n",
    "print(printDepthK(root,2))"
   ]
  },
  {
   "cell_type": "code",
   "execution_count": 16,
   "id": "97a47e2f",
   "metadata": {},
   "outputs": [
    {
     "name": "stdout",
     "output_type": "stream",
     "text": [
      "4\n",
      "5\n",
      "6\n",
      "None\n"
     ]
    }
   ],
   "source": [
    "# PART 2\n",
    "def printDepthKV2(root,k,d=0):\n",
    "    if root==None:\n",
    "        return\n",
    "    if k==d:\n",
    "        print(root.data)\n",
    "        return\n",
    "    printDepthKV2(root.left,k,d+1)\n",
    "    printDepthKV2(root.right,k,d+1)\n",
    "    \n",
    "print(printDepthKV2(root,2))"
   ]
  },
  {
   "cell_type": "code",
   "execution_count": null,
   "id": "58b71260",
   "metadata": {},
   "outputs": [],
   "source": []
  },
  {
   "cell_type": "code",
   "execution_count": null,
   "id": "d08bc627",
   "metadata": {},
   "outputs": [],
   "source": []
  }
 ],
 "metadata": {
  "kernelspec": {
   "display_name": "Python 3 (ipykernel)",
   "language": "python",
   "name": "python3"
  },
  "language_info": {
   "codemirror_mode": {
    "name": "ipython",
    "version": 3
   },
   "file_extension": ".py",
   "mimetype": "text/x-python",
   "name": "python",
   "nbconvert_exporter": "python",
   "pygments_lexer": "ipython3",
   "version": "3.11.2"
  }
 },
 "nbformat": 4,
 "nbformat_minor": 5
}
